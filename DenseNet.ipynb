{
  "nbformat": 4,
  "nbformat_minor": 0,
  "metadata": {
    "colab": {
      "name": "DenseNet.ipynb",
      "provenance": [],
      "authorship_tag": "ABX9TyMLIQGZIqQgOcmENHh8gsZi",
      "include_colab_link": true
    },
    "kernelspec": {
      "name": "python3",
      "display_name": "Python 3"
    },
    "language_info": {
      "name": "python"
    },
    "accelerator": "GPU"
  },
  "cells": [
    {
      "cell_type": "markdown",
      "metadata": {
        "id": "view-in-github",
        "colab_type": "text"
      },
      "source": [
        "<a href=\"https://colab.research.google.com/github/abhinav9629/Yoga107/blob/main/DenseNet.ipynb\" target=\"_parent\"><img src=\"https://colab.research.google.com/assets/colab-badge.svg\" alt=\"Open In Colab\"/></a>"
      ]
    },
    {
      "cell_type": "code",
      "metadata": {
        "colab": {
          "base_uri": "https://localhost:8080/"
        },
        "id": "Udt4dZti2Th3",
        "outputId": "c348b8d8-f9fc-4885-b275-04f842ea6ad2"
      },
      "source": [
        "from google.colab import drive\n",
        "drive.mount('/content/drive')"
      ],
      "execution_count": 1,
      "outputs": [
        {
          "output_type": "stream",
          "text": [
            "Mounted at /content/drive\n"
          ],
          "name": "stdout"
        }
      ]
    },
    {
      "cell_type": "code",
      "metadata": {
        "id": "uMHzVEgW3CJE"
      },
      "source": [
        "import numpy as np\n",
        "import pandas as pd\n",
        "import os\n",
        "import matplotlib.pyplot as plt\n",
        "import tensorflow as tf\n",
        "import tensorflow.keras as keras\n",
        "from tensorflow.keras.utils import to_categorical\n",
        "from tensorflow.keras.preprocessing.image import load_img, img_to_array\n",
        "from tensorflow.python.keras.preprocessing.image import ImageDataGenerator\n",
        "from sklearn.model_selection import train_test_split"
      ],
      "execution_count": 11,
      "outputs": []
    },
    {
      "cell_type": "code",
      "metadata": {
        "id": "nZKYpI4_2pwR"
      },
      "source": [
        "dataset_path = '/content/drive/MyDrive/DATASETS/Yoga Dataset/dataset'"
      ],
      "execution_count": 3,
      "outputs": []
    },
    {
      "cell_type": "code",
      "metadata": {
        "colab": {
          "base_uri": "https://localhost:8080/"
        },
        "id": "aConhl3N25ZA",
        "outputId": "6612f7d8-c21a-420b-cfe7-974fb1bb3e4a"
      },
      "source": [
        "labels = []\n",
        "for label in os.listdir(dataset_path):\n",
        "  labels.append(label)\n",
        "print(len(labels))"
      ],
      "execution_count": 4,
      "outputs": [
        {
          "output_type": "stream",
          "text": [
            "107\n"
          ],
          "name": "stdout"
        }
      ]
    },
    {
      "cell_type": "code",
      "metadata": {
        "colab": {
          "base_uri": "https://localhost:8080/"
        },
        "id": "wRDSrc6j3hhU",
        "outputId": "56e2c17a-8929-4f76-9555-8c419be5968e"
      },
      "source": [
        "train_set=[]\n",
        "test_set=[]\n",
        "count=0\n",
        "for files in os.listdir(dataset_path):\n",
        "    t=0\n",
        "    path=os.path.join(dataset_path,files)\n",
        "    for img in os.listdir(path):\n",
        "        image=load_img(os.path.join(path,img), grayscale=False, color_mode='rgb', target_size=(40,40))\n",
        "        image=img_to_array(image)\n",
        "        image=image/255.0\n",
        "        if t<60:\n",
        "            train_set.append([image,count])\n",
        "        else:\n",
        "            test_set.append([image,count])\n",
        "        t=t+1\n",
        "    count=count+1\n",
        "    print(count,end=\" \")"
      ],
      "execution_count": 5,
      "outputs": [
        {
          "output_type": "stream",
          "text": [
            "1 2 3 4 5 6 7 "
          ],
          "name": "stdout"
        },
        {
          "output_type": "stream",
          "text": [
            "/usr/local/lib/python3.7/dist-packages/PIL/Image.py:960: UserWarning: Palette images with Transparency expressed in bytes should be converted to RGBA images\n",
            "  \"Palette images with Transparency expressed in bytes should be \"\n"
          ],
          "name": "stderr"
        },
        {
          "output_type": "stream",
          "text": [
            "8 9 10 11 12 13 14 15 16 17 18 19 20 21 22 23 24 25 26 27 28 29 30 31 32 33 34 35 36 37 38 39 40 41 42 43 44 45 46 47 48 49 50 51 52 53 54 55 56 57 58 59 60 61 62 63 64 65 66 67 68 69 70 71 72 73 74 75 76 77 78 79 80 81 82 83 84 85 86 87 88 89 90 91 92 93 94 95 96 97 98 99 100 101 102 103 104 105 106 107 "
          ],
          "name": "stdout"
        }
      ]
    },
    {
      "cell_type": "code",
      "metadata": {
        "id": "555bInxbHf4d"
      },
      "source": [
        "train,labels0 = zip(*train_set)\n",
        "test,testlabels0 = zip(*test_set)"
      ],
      "execution_count": 6,
      "outputs": []
    },
    {
      "cell_type": "code",
      "metadata": {
        "id": "BP8erbwIH3WP"
      },
      "source": [
        "labels1 = to_categorical(labels0)\n",
        "label = np.array(labels1) "
      ],
      "execution_count": 7,
      "outputs": []
    },
    {
      "cell_type": "code",
      "metadata": {
        "id": "fG1FZRLxISwy"
      },
      "source": [
        "train = np.array(train)\n",
        "test = np.array(test)"
      ],
      "execution_count": 8,
      "outputs": []
    },
    {
      "cell_type": "code",
      "metadata": {
        "id": "9au8PFSOSwRA"
      },
      "source": [
        "trainx,testx,trainy,testy=train_test_split(train,label,test_size=0.2,random_state=44)"
      ],
      "execution_count": 9,
      "outputs": []
    },
    {
      "cell_type": "code",
      "metadata": {
        "id": "oyLglpFWpgkl"
      },
      "source": [
        "datagen = ImageDataGenerator(horizontal_flip=True,vertical_flip=True,rotation_range=20,zoom_range=0.2,width_shift_range=0.2,height_shift_range=0.2,shear_range=0.1,fill_mode=\"nearest\")"
      ],
      "execution_count": 10,
      "outputs": []
    },
    {
      "cell_type": "code",
      "metadata": {
        "colab": {
          "base_uri": "https://localhost:8080/"
        },
        "id": "ww6yd3ZYpvd1",
        "outputId": "6aabf8f8-83ff-4d66-bd06-a51f5b8446d1"
      },
      "source": [
        "pretrained_model = tf.keras.applications.DenseNet201(input_shape=(40,40,3),include_top=False,weights='imagenet',pooling='avg')\n",
        "pretrained_model.trainable = False"
      ],
      "execution_count": 12,
      "outputs": [
        {
          "output_type": "stream",
          "text": [
            "Downloading data from https://storage.googleapis.com/tensorflow/keras-applications/densenet/densenet201_weights_tf_dim_ordering_tf_kernels_notop.h5\n",
            "74842112/74836368 [==============================] - 1s 0us/step\n"
          ],
          "name": "stdout"
        }
      ]
    },
    {
      "cell_type": "code",
      "metadata": {
        "id": "FhhYp6QTr-aM"
      },
      "source": [
        "inputs = pretrained_model.input\n",
        "x = keras.layers.Dense(128, activation='relu')(pretrained_model.output)\n",
        "outputs = tf.keras.layers.Dense(107, activation='softmax')(x)\n",
        "model = tf.keras.Model(inputs=inputs, outputs=outputs)"
      ],
      "execution_count": 15,
      "outputs": []
    },
    {
      "cell_type": "code",
      "metadata": {
        "id": "uHoVvZKCst_A"
      },
      "source": [
        "optimiser = keras.optimizers.Adam(learning_rate=0.001)\n",
        "model.compile(optimizer=optimiser,loss='categorical_crossentropy',metrics=['accuracy'])"
      ],
      "execution_count": 17,
      "outputs": []
    },
    {
      "cell_type": "code",
      "metadata": {
        "colab": {
          "base_uri": "https://localhost:8080/"
        },
        "id": "9zQYN3Q-wkgd",
        "outputId": "62f06ec2-b379-4e85-c2b4-e650bf503543"
      },
      "source": [
        "model_history = model.fit(datagen.flow(trainx,trainy,batch_size=32),validation_data=(testx,testy),epochs=100)"
      ],
      "execution_count": 20,
      "outputs": [
        {
          "output_type": "stream",
          "text": [
            "Epoch 1/100\n",
            "141/141 [==============================] - 8s 55ms/step - loss: 2.6476 - accuracy: 0.3339 - val_loss: 3.3015 - val_accuracy: 0.2598\n",
            "Epoch 2/100\n",
            "141/141 [==============================] - 8s 56ms/step - loss: 2.6851 - accuracy: 0.3306 - val_loss: 3.3310 - val_accuracy: 0.2429\n",
            "Epoch 3/100\n",
            "141/141 [==============================] - 8s 54ms/step - loss: 2.6519 - accuracy: 0.3377 - val_loss: 3.2830 - val_accuracy: 0.2536\n",
            "Epoch 4/100\n",
            "141/141 [==============================] - 8s 53ms/step - loss: 2.6352 - accuracy: 0.3402 - val_loss: 3.3052 - val_accuracy: 0.2651\n",
            "Epoch 5/100\n",
            "141/141 [==============================] - 8s 54ms/step - loss: 2.6379 - accuracy: 0.3359 - val_loss: 3.3200 - val_accuracy: 0.2500\n",
            "Epoch 6/100\n",
            "141/141 [==============================] - 8s 55ms/step - loss: 2.6356 - accuracy: 0.3273 - val_loss: 3.3224 - val_accuracy: 0.2464\n",
            "Epoch 7/100\n",
            "141/141 [==============================] - 7s 53ms/step - loss: 2.6051 - accuracy: 0.3504 - val_loss: 3.3770 - val_accuracy: 0.2651\n",
            "Epoch 8/100\n",
            "141/141 [==============================] - 7s 53ms/step - loss: 2.5976 - accuracy: 0.3442 - val_loss: 3.3014 - val_accuracy: 0.2491\n",
            "Epoch 9/100\n",
            "141/141 [==============================] - 8s 56ms/step - loss: 2.6306 - accuracy: 0.3442 - val_loss: 3.3510 - val_accuracy: 0.2536\n",
            "Epoch 10/100\n",
            "141/141 [==============================] - 8s 54ms/step - loss: 2.6132 - accuracy: 0.3437 - val_loss: 3.2769 - val_accuracy: 0.2705\n",
            "Epoch 11/100\n",
            "141/141 [==============================] - 8s 56ms/step - loss: 2.6061 - accuracy: 0.3395 - val_loss: 3.3147 - val_accuracy: 0.2633\n",
            "Epoch 12/100\n",
            "141/141 [==============================] - 8s 54ms/step - loss: 2.6028 - accuracy: 0.3435 - val_loss: 3.3512 - val_accuracy: 0.2438\n",
            "Epoch 13/100\n",
            "141/141 [==============================] - 8s 55ms/step - loss: 2.6070 - accuracy: 0.3368 - val_loss: 3.3371 - val_accuracy: 0.2536\n",
            "Epoch 14/100\n",
            "141/141 [==============================] - 8s 55ms/step - loss: 2.5943 - accuracy: 0.3373 - val_loss: 3.3044 - val_accuracy: 0.2562\n",
            "Epoch 15/100\n",
            "141/141 [==============================] - 8s 56ms/step - loss: 2.5921 - accuracy: 0.3424 - val_loss: 3.3654 - val_accuracy: 0.2544\n",
            "Epoch 16/100\n",
            "141/141 [==============================] - 8s 53ms/step - loss: 2.5741 - accuracy: 0.3459 - val_loss: 3.3078 - val_accuracy: 0.2678\n",
            "Epoch 17/100\n",
            "141/141 [==============================] - 8s 54ms/step - loss: 2.5795 - accuracy: 0.3533 - val_loss: 3.3407 - val_accuracy: 0.2553\n",
            "Epoch 18/100\n",
            "141/141 [==============================] - 8s 54ms/step - loss: 2.5728 - accuracy: 0.3471 - val_loss: 3.3092 - val_accuracy: 0.2553\n",
            "Epoch 19/100\n",
            "141/141 [==============================] - 8s 56ms/step - loss: 2.5536 - accuracy: 0.3539 - val_loss: 3.2681 - val_accuracy: 0.2607\n",
            "Epoch 20/100\n",
            "141/141 [==============================] - 8s 55ms/step - loss: 2.5973 - accuracy: 0.3321 - val_loss: 3.3213 - val_accuracy: 0.2589\n",
            "Epoch 21/100\n",
            "141/141 [==============================] - 8s 55ms/step - loss: 2.5567 - accuracy: 0.3522 - val_loss: 3.3068 - val_accuracy: 0.2660\n",
            "Epoch 22/100\n",
            "141/141 [==============================] - 8s 54ms/step - loss: 2.5592 - accuracy: 0.3410 - val_loss: 3.3666 - val_accuracy: 0.2544\n",
            "Epoch 23/100\n",
            "141/141 [==============================] - 8s 55ms/step - loss: 2.5865 - accuracy: 0.3466 - val_loss: 3.3488 - val_accuracy: 0.2616\n",
            "Epoch 24/100\n",
            "141/141 [==============================] - 8s 54ms/step - loss: 2.5680 - accuracy: 0.3557 - val_loss: 3.3166 - val_accuracy: 0.2553\n",
            "Epoch 25/100\n",
            "141/141 [==============================] - 8s 54ms/step - loss: 2.5493 - accuracy: 0.3473 - val_loss: 3.3928 - val_accuracy: 0.2527\n",
            "Epoch 26/100\n",
            "141/141 [==============================] - 8s 54ms/step - loss: 2.5290 - accuracy: 0.3491 - val_loss: 3.3535 - val_accuracy: 0.2589\n",
            "Epoch 27/100\n",
            "141/141 [==============================] - 8s 54ms/step - loss: 2.5480 - accuracy: 0.3515 - val_loss: 3.3345 - val_accuracy: 0.2464\n",
            "Epoch 28/100\n",
            "141/141 [==============================] - 8s 55ms/step - loss: 2.5025 - accuracy: 0.3577 - val_loss: 3.3856 - val_accuracy: 0.2367\n",
            "Epoch 29/100\n",
            "141/141 [==============================] - 8s 56ms/step - loss: 2.5117 - accuracy: 0.3593 - val_loss: 3.3629 - val_accuracy: 0.2544\n",
            "Epoch 30/100\n",
            "141/141 [==============================] - 8s 55ms/step - loss: 2.5073 - accuracy: 0.3624 - val_loss: 3.3769 - val_accuracy: 0.2509\n",
            "Epoch 31/100\n",
            "141/141 [==============================] - 8s 54ms/step - loss: 2.5104 - accuracy: 0.3577 - val_loss: 3.3910 - val_accuracy: 0.2536\n",
            "Epoch 32/100\n",
            "141/141 [==============================] - 8s 56ms/step - loss: 2.5188 - accuracy: 0.3522 - val_loss: 3.3583 - val_accuracy: 0.2509\n",
            "Epoch 33/100\n",
            "141/141 [==============================] - 8s 56ms/step - loss: 2.5173 - accuracy: 0.3548 - val_loss: 3.3568 - val_accuracy: 0.2714\n",
            "Epoch 34/100\n",
            "141/141 [==============================] - 8s 56ms/step - loss: 2.5196 - accuracy: 0.3655 - val_loss: 3.4376 - val_accuracy: 0.2562\n",
            "Epoch 35/100\n",
            "141/141 [==============================] - 8s 56ms/step - loss: 2.5398 - accuracy: 0.3488 - val_loss: 3.4182 - val_accuracy: 0.2518\n",
            "Epoch 36/100\n",
            "141/141 [==============================] - 8s 54ms/step - loss: 2.5101 - accuracy: 0.3566 - val_loss: 3.3921 - val_accuracy: 0.2562\n",
            "Epoch 37/100\n",
            "141/141 [==============================] - 8s 56ms/step - loss: 2.4850 - accuracy: 0.3673 - val_loss: 3.4528 - val_accuracy: 0.2553\n",
            "Epoch 38/100\n",
            "141/141 [==============================] - 8s 55ms/step - loss: 2.4827 - accuracy: 0.3662 - val_loss: 3.4132 - val_accuracy: 0.2482\n",
            "Epoch 39/100\n",
            "141/141 [==============================] - 8s 56ms/step - loss: 2.4519 - accuracy: 0.3715 - val_loss: 3.3902 - val_accuracy: 0.2651\n",
            "Epoch 40/100\n",
            "141/141 [==============================] - 8s 59ms/step - loss: 2.4671 - accuracy: 0.3697 - val_loss: 3.4527 - val_accuracy: 0.2562\n",
            "Epoch 41/100\n",
            "141/141 [==============================] - 8s 55ms/step - loss: 2.5020 - accuracy: 0.3593 - val_loss: 3.4835 - val_accuracy: 0.2509\n",
            "Epoch 42/100\n",
            "141/141 [==============================] - 8s 56ms/step - loss: 2.4908 - accuracy: 0.3749 - val_loss: 3.4021 - val_accuracy: 0.2740\n",
            "Epoch 43/100\n",
            "141/141 [==============================] - 8s 56ms/step - loss: 2.5086 - accuracy: 0.3631 - val_loss: 3.4962 - val_accuracy: 0.2358\n",
            "Epoch 44/100\n",
            "141/141 [==============================] - 8s 55ms/step - loss: 2.4467 - accuracy: 0.3680 - val_loss: 3.4446 - val_accuracy: 0.2447\n",
            "Epoch 45/100\n",
            "141/141 [==============================] - 8s 54ms/step - loss: 2.4896 - accuracy: 0.3633 - val_loss: 3.3737 - val_accuracy: 0.2491\n",
            "Epoch 46/100\n",
            "141/141 [==============================] - 8s 54ms/step - loss: 2.4671 - accuracy: 0.3673 - val_loss: 3.4142 - val_accuracy: 0.2536\n",
            "Epoch 47/100\n",
            "141/141 [==============================] - 8s 54ms/step - loss: 2.5066 - accuracy: 0.3628 - val_loss: 3.4302 - val_accuracy: 0.2420\n",
            "Epoch 48/100\n",
            "141/141 [==============================] - 8s 54ms/step - loss: 2.4412 - accuracy: 0.3644 - val_loss: 3.4354 - val_accuracy: 0.2544\n",
            "Epoch 49/100\n",
            "141/141 [==============================] - 8s 56ms/step - loss: 2.4681 - accuracy: 0.3686 - val_loss: 3.3581 - val_accuracy: 0.2527\n",
            "Epoch 50/100\n",
            "141/141 [==============================] - 8s 56ms/step - loss: 2.4991 - accuracy: 0.3669 - val_loss: 3.4200 - val_accuracy: 0.2669\n",
            "Epoch 51/100\n",
            "141/141 [==============================] - 8s 54ms/step - loss: 2.4533 - accuracy: 0.3733 - val_loss: 3.4437 - val_accuracy: 0.2571\n",
            "Epoch 52/100\n",
            "141/141 [==============================] - 8s 54ms/step - loss: 2.4359 - accuracy: 0.3706 - val_loss: 3.4280 - val_accuracy: 0.2473\n",
            "Epoch 53/100\n",
            "141/141 [==============================] - 8s 57ms/step - loss: 2.4513 - accuracy: 0.3695 - val_loss: 3.4338 - val_accuracy: 0.2571\n",
            "Epoch 54/100\n",
            "141/141 [==============================] - 8s 56ms/step - loss: 2.4518 - accuracy: 0.3729 - val_loss: 3.4455 - val_accuracy: 0.2544\n",
            "Epoch 55/100\n",
            "141/141 [==============================] - 8s 58ms/step - loss: 2.4280 - accuracy: 0.3753 - val_loss: 3.4050 - val_accuracy: 0.2553\n",
            "Epoch 56/100\n",
            "141/141 [==============================] - 8s 56ms/step - loss: 2.4424 - accuracy: 0.3755 - val_loss: 3.4649 - val_accuracy: 0.2589\n",
            "Epoch 57/100\n",
            "141/141 [==============================] - 8s 54ms/step - loss: 2.4104 - accuracy: 0.3833 - val_loss: 3.4663 - val_accuracy: 0.2589\n",
            "Epoch 58/100\n",
            "141/141 [==============================] - 8s 54ms/step - loss: 2.4208 - accuracy: 0.3673 - val_loss: 3.4827 - val_accuracy: 0.2429\n",
            "Epoch 59/100\n",
            "141/141 [==============================] - 8s 56ms/step - loss: 2.4565 - accuracy: 0.3709 - val_loss: 3.4862 - val_accuracy: 0.2420\n",
            "Epoch 60/100\n",
            "141/141 [==============================] - 8s 56ms/step - loss: 2.4241 - accuracy: 0.3751 - val_loss: 3.4873 - val_accuracy: 0.2527\n",
            "Epoch 61/100\n",
            "141/141 [==============================] - 8s 55ms/step - loss: 2.4109 - accuracy: 0.3749 - val_loss: 3.4921 - val_accuracy: 0.2482\n",
            "Epoch 62/100\n",
            "141/141 [==============================] - 8s 55ms/step - loss: 2.4126 - accuracy: 0.3860 - val_loss: 3.4926 - val_accuracy: 0.2438\n",
            "Epoch 63/100\n",
            "141/141 [==============================] - 8s 58ms/step - loss: 2.4286 - accuracy: 0.3700 - val_loss: 3.5304 - val_accuracy: 0.2411\n",
            "Epoch 64/100\n",
            "141/141 [==============================] - 8s 55ms/step - loss: 2.3908 - accuracy: 0.3884 - val_loss: 3.4573 - val_accuracy: 0.2562\n",
            "Epoch 65/100\n",
            "141/141 [==============================] - 8s 54ms/step - loss: 2.4165 - accuracy: 0.3775 - val_loss: 3.4715 - val_accuracy: 0.2536\n",
            "Epoch 66/100\n",
            "141/141 [==============================] - 8s 57ms/step - loss: 2.4314 - accuracy: 0.3697 - val_loss: 3.5076 - val_accuracy: 0.2384\n",
            "Epoch 67/100\n",
            "141/141 [==============================] - 8s 54ms/step - loss: 2.4179 - accuracy: 0.3806 - val_loss: 3.4954 - val_accuracy: 0.2420\n",
            "Epoch 68/100\n",
            "141/141 [==============================] - 8s 56ms/step - loss: 2.4283 - accuracy: 0.3802 - val_loss: 3.4555 - val_accuracy: 0.2384\n",
            "Epoch 69/100\n",
            "141/141 [==============================] - 8s 54ms/step - loss: 2.4520 - accuracy: 0.3775 - val_loss: 3.5076 - val_accuracy: 0.2411\n",
            "Epoch 70/100\n",
            "141/141 [==============================] - 8s 57ms/step - loss: 2.4016 - accuracy: 0.3733 - val_loss: 3.5646 - val_accuracy: 0.2367\n",
            "Epoch 71/100\n",
            "141/141 [==============================] - 8s 56ms/step - loss: 2.4290 - accuracy: 0.3775 - val_loss: 3.5323 - val_accuracy: 0.2429\n",
            "Epoch 72/100\n",
            "141/141 [==============================] - 8s 55ms/step - loss: 2.3993 - accuracy: 0.3813 - val_loss: 3.5170 - val_accuracy: 0.2420\n",
            "Epoch 73/100\n",
            "141/141 [==============================] - 8s 54ms/step - loss: 2.4040 - accuracy: 0.3855 - val_loss: 3.5228 - val_accuracy: 0.2482\n",
            "Epoch 74/100\n",
            "141/141 [==============================] - 8s 55ms/step - loss: 2.3959 - accuracy: 0.3835 - val_loss: 3.4829 - val_accuracy: 0.2473\n",
            "Epoch 75/100\n",
            "141/141 [==============================] - 8s 56ms/step - loss: 2.4034 - accuracy: 0.3858 - val_loss: 3.5703 - val_accuracy: 0.2518\n",
            "Epoch 76/100\n",
            "141/141 [==============================] - 8s 56ms/step - loss: 2.4313 - accuracy: 0.3769 - val_loss: 3.5207 - val_accuracy: 0.2500\n",
            "Epoch 77/100\n",
            "141/141 [==============================] - 8s 56ms/step - loss: 2.3777 - accuracy: 0.3884 - val_loss: 3.5080 - val_accuracy: 0.2500\n",
            "Epoch 78/100\n",
            "141/141 [==============================] - 8s 55ms/step - loss: 2.4159 - accuracy: 0.3784 - val_loss: 3.5405 - val_accuracy: 0.2456\n",
            "Epoch 79/100\n",
            "141/141 [==============================] - 8s 54ms/step - loss: 2.3771 - accuracy: 0.3895 - val_loss: 3.5481 - val_accuracy: 0.2438\n",
            "Epoch 80/100\n",
            "141/141 [==============================] - 8s 57ms/step - loss: 2.3923 - accuracy: 0.3880 - val_loss: 3.5140 - val_accuracy: 0.2482\n",
            "Epoch 81/100\n",
            "141/141 [==============================] - 8s 57ms/step - loss: 2.3763 - accuracy: 0.3806 - val_loss: 3.5870 - val_accuracy: 0.2429\n",
            "Epoch 82/100\n",
            "141/141 [==============================] - 8s 57ms/step - loss: 2.4321 - accuracy: 0.3784 - val_loss: 3.4982 - val_accuracy: 0.2393\n",
            "Epoch 83/100\n",
            "141/141 [==============================] - 8s 55ms/step - loss: 2.3746 - accuracy: 0.4040 - val_loss: 3.5781 - val_accuracy: 0.2491\n",
            "Epoch 84/100\n",
            "141/141 [==============================] - 8s 55ms/step - loss: 2.3686 - accuracy: 0.3898 - val_loss: 3.5509 - val_accuracy: 0.2438\n",
            "Epoch 85/100\n",
            "141/141 [==============================] - 8s 58ms/step - loss: 2.4072 - accuracy: 0.3867 - val_loss: 3.4978 - val_accuracy: 0.2616\n",
            "Epoch 86/100\n",
            "141/141 [==============================] - 8s 58ms/step - loss: 2.3819 - accuracy: 0.3878 - val_loss: 3.5129 - val_accuracy: 0.2509\n",
            "Epoch 87/100\n",
            "141/141 [==============================] - 8s 56ms/step - loss: 2.3675 - accuracy: 0.3875 - val_loss: 3.5329 - val_accuracy: 0.2589\n",
            "Epoch 88/100\n",
            "141/141 [==============================] - 8s 57ms/step - loss: 2.3790 - accuracy: 0.3909 - val_loss: 3.5796 - val_accuracy: 0.2625\n",
            "Epoch 89/100\n",
            "141/141 [==============================] - 8s 58ms/step - loss: 2.3902 - accuracy: 0.3818 - val_loss: 3.5399 - val_accuracy: 0.2420\n",
            "Epoch 90/100\n",
            "141/141 [==============================] - 8s 57ms/step - loss: 2.4052 - accuracy: 0.3784 - val_loss: 3.5726 - val_accuracy: 0.2384\n",
            "Epoch 91/100\n",
            "141/141 [==============================] - 8s 57ms/step - loss: 2.3790 - accuracy: 0.3782 - val_loss: 3.5908 - val_accuracy: 0.2571\n",
            "Epoch 92/100\n",
            "141/141 [==============================] - 8s 60ms/step - loss: 2.3677 - accuracy: 0.3998 - val_loss: 3.5591 - val_accuracy: 0.2696\n",
            "Epoch 93/100\n",
            "141/141 [==============================] - 8s 59ms/step - loss: 2.3658 - accuracy: 0.3895 - val_loss: 3.5309 - val_accuracy: 0.2509\n",
            "Epoch 94/100\n",
            "141/141 [==============================] - 8s 59ms/step - loss: 2.3434 - accuracy: 0.3949 - val_loss: 3.5764 - val_accuracy: 0.2633\n",
            "Epoch 95/100\n",
            "141/141 [==============================] - 9s 60ms/step - loss: 2.4102 - accuracy: 0.3737 - val_loss: 3.5746 - val_accuracy: 0.2473\n",
            "Epoch 96/100\n",
            "141/141 [==============================] - 8s 59ms/step - loss: 2.3829 - accuracy: 0.3849 - val_loss: 3.5884 - val_accuracy: 0.2660\n",
            "Epoch 97/100\n",
            "141/141 [==============================] - 8s 59ms/step - loss: 2.3658 - accuracy: 0.4007 - val_loss: 3.5108 - val_accuracy: 0.2696\n",
            "Epoch 98/100\n",
            "141/141 [==============================] - 8s 57ms/step - loss: 2.3637 - accuracy: 0.3864 - val_loss: 3.6409 - val_accuracy: 0.2482\n",
            "Epoch 99/100\n",
            "141/141 [==============================] - 8s 58ms/step - loss: 2.3968 - accuracy: 0.3900 - val_loss: 3.5856 - val_accuracy: 0.2571\n",
            "Epoch 100/100\n",
            "141/141 [==============================] - 8s 58ms/step - loss: 2.3410 - accuracy: 0.3991 - val_loss: 3.5944 - val_accuracy: 0.2500\n"
          ],
          "name": "stdout"
        }
      ]
    },
    {
      "cell_type": "code",
      "metadata": {
        "colab": {
          "base_uri": "https://localhost:8080/"
        },
        "id": "FNOXVsOGystf",
        "outputId": "7259b84f-e532-44f2-fccd-80bdabee7486"
      },
      "source": [
        "model.evaluate(testx,testy)"
      ],
      "execution_count": 21,
      "outputs": [
        {
          "output_type": "stream",
          "text": [
            "36/36 [==============================] - 1s 35ms/step - loss: 3.5944 - accuracy: 0.2500\n"
          ],
          "name": "stdout"
        },
        {
          "output_type": "execute_result",
          "data": {
            "text/plain": [
              "[3.5943968296051025, 0.25]"
            ]
          },
          "metadata": {
            "tags": []
          },
          "execution_count": 21
        }
      ]
    },
    {
      "cell_type": "code",
      "metadata": {
        "id": "LulUWkmS3BCg"
      },
      "source": [
        "#PREDICTION"
      ],
      "execution_count": 24,
      "outputs": []
    },
    {
      "cell_type": "code",
      "metadata": {
        "id": "Dre5yuFu3NHR"
      },
      "source": [
        "Val = []\n",
        "for i in range(len(labels)):\n",
        "  Val.append(i)\n",
        "\n",
        "reverse_mapping=dict(zip(Val,labels)) "
      ],
      "execution_count": 25,
      "outputs": []
    },
    {
      "cell_type": "code",
      "metadata": {
        "id": "K6qbmTRk2P72"
      },
      "source": [
        "image=load_img(\"/content/drive/MyDrive/DATASETS/Yoga Dataset/dataset/uttanasana/97-0.png\",target_size=(40,40))\n",
        "\n",
        "image=img_to_array(image) \n",
        "image=image/255.0\n",
        "prediction_image=np.array(image)\n",
        "prediction_image= np.expand_dims(image, axis=0)"
      ],
      "execution_count": 37,
      "outputs": []
    },
    {
      "cell_type": "code",
      "metadata": {
        "colab": {
          "base_uri": "https://localhost:8080/"
        },
        "id": "LETBq0BI2fuG",
        "outputId": "b64be3f9-f21b-4293-8c24-5b2484dfe457"
      },
      "source": [
        "prediction=model.predict(prediction_image)\n",
        "value=np.argmax(prediction)\n",
        "move_name = reverse_mapping[value]\n",
        "print(\"Prediction is {}.\".format(move_name))"
      ],
      "execution_count": 38,
      "outputs": [
        {
          "output_type": "stream",
          "text": [
            "Prediction is uttanasana.\n"
          ],
          "name": "stdout"
        }
      ]
    },
    {
      "cell_type": "code",
      "metadata": {
        "id": "rU_LwB0R6Wyo"
      },
      "source": [
        ""
      ],
      "execution_count": null,
      "outputs": []
    }
  ]
}