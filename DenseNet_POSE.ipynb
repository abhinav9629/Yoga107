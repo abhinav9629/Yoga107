{
  "nbformat": 4,
  "nbformat_minor": 0,
  "metadata": {
    "accelerator": "GPU",
    "colab": {
      "name": "DenseNet.ipynb",
      "provenance": [],
      "collapsed_sections": [],
      "authorship_tag": "ABX9TyNtVxq45lGHgw+rTdppxMs+",
      "include_colab_link": true
    },
    "kernelspec": {
      "display_name": "Python 3",
      "name": "python3"
    },
    "language_info": {
      "name": "python"
    }
  },
  "cells": [
    {
      "cell_type": "markdown",
      "metadata": {
        "id": "view-in-github",
        "colab_type": "text"
      },
      "source": [
        "<a href=\"https://colab.research.google.com/github/abhinav9629/Yoga107/blob/main/DenseNet_POSE.ipynb\" target=\"_parent\"><img src=\"https://colab.research.google.com/assets/colab-badge.svg\" alt=\"Open In Colab\"/></a>"
      ]
    },
    {
      "cell_type": "code",
      "metadata": {
        "colab": {
          "base_uri": "https://localhost:8080/"
        },
        "id": "Udt4dZti2Th3",
        "outputId": "8e0e54fa-8228-4d0a-ee8a-568bb27af72a"
      },
      "source": [
        "from google.colab import drive\n",
        "drive.mount('/content/drive')"
      ],
      "execution_count": 1,
      "outputs": [
        {
          "output_type": "stream",
          "text": [
            "Mounted at /content/drive\n"
          ],
          "name": "stdout"
        }
      ]
    },
    {
      "cell_type": "code",
      "metadata": {
        "id": "uMHzVEgW3CJE"
      },
      "source": [
        "import numpy as np\n",
        "import pandas as pd\n",
        "import os\n",
        "import matplotlib.pyplot as plt\n",
        "import tensorflow as tf\n",
        "import tensorflow.keras as keras\n",
        "from tensorflow.keras.utils import to_categorical\n",
        "from tensorflow.keras.preprocessing.image import load_img, img_to_array\n",
        "from tensorflow.python.keras.preprocessing.image import ImageDataGenerator\n",
        "from sklearn.model_selection import train_test_split"
      ],
      "execution_count": 2,
      "outputs": []
    },
    {
      "cell_type": "code",
      "metadata": {
        "id": "_Az2rCO7ScHP"
      },
      "source": [
        "#TPU\n",
        "'''\n",
        "try:\n",
        "  tpu = tf.distribute.cluster_resolver.TPUClusterResolver()  # TPU detection\n",
        "  print('Running on TPU ', tpu.cluster_spec().as_dict()['worker'])\n",
        "except ValueError:\n",
        "  raise BaseException('ERROR: Not connected to a TPU runtime; please see the previous cell in this notebook for instructions!')\n",
        "\n",
        "tf.config.experimental_connect_to_cluster(tpu)\n",
        "tf.tpu.experimental.initialize_tpu_system(tpu)\n",
        "tpu_strategy = tf.distribute.experimental.TPUStrategy(tpu)\n",
        "'''"
      ],
      "execution_count": null,
      "outputs": []
    },
    {
      "cell_type": "code",
      "metadata": {
        "id": "nZKYpI4_2pwR"
      },
      "source": [
        "dataset_path = '/content/drive/MyDrive/DATASETS/YogaDataset/poseDataset'"
      ],
      "execution_count": 3,
      "outputs": []
    },
    {
      "cell_type": "code",
      "metadata": {
        "colab": {
          "base_uri": "https://localhost:8080/"
        },
        "id": "aConhl3N25ZA",
        "outputId": "de9ca1fe-504b-4254-b2fd-6a3cf1cc22b3"
      },
      "source": [
        "labels = []\n",
        "for label in os.listdir(dataset_path):\n",
        "  labels.append(label)\n",
        "print(len(labels))"
      ],
      "execution_count": 4,
      "outputs": [
        {
          "output_type": "stream",
          "text": [
            "107\n"
          ],
          "name": "stdout"
        }
      ]
    },
    {
      "cell_type": "code",
      "metadata": {
        "colab": {
          "base_uri": "https://localhost:8080/"
        },
        "id": "wRDSrc6j3hhU",
        "outputId": "4adc23c8-7d6d-485c-f602-b6fc16f99b76"
      },
      "source": [
        "train_set=[]\n",
        "test_set=[]\n",
        "count=0\n",
        "for files in os.listdir(dataset_path):\n",
        "    t=0\n",
        "    path=os.path.join(dataset_path,files)\n",
        "    for img in os.listdir(path):\n",
        "        image=load_img(os.path.join(path,img), grayscale=False, color_mode='rgb', target_size=(192,192))\n",
        "        image=img_to_array(image)\n",
        "        image=image/255.0\n",
        "        if t<60:\n",
        "            train_set.append([image,count])\n",
        "        else:\n",
        "            test_set.append([image,count])\n",
        "        t=t+1\n",
        "    count=count+1\n",
        "    print(count,end=\" \")"
      ],
      "execution_count": 6,
      "outputs": [
        {
          "output_type": "stream",
          "text": [
            "1 2 3 4 5 6 7 8 9 10 11 12 13 14 15 16 17 18 19 20 21 22 23 24 25 26 27 28 29 30 31 32 33 34 35 36 37 38 39 40 41 42 43 44 45 46 47 48 49 50 51 52 53 54 55 56 57 58 59 60 61 62 63 64 65 66 67 68 69 70 71 72 73 74 75 76 77 78 79 80 81 82 83 84 85 86 87 88 89 90 91 92 93 94 95 96 97 98 99 100 101 102 103 104 105 106 107 "
          ],
          "name": "stdout"
        }
      ]
    },
    {
      "cell_type": "code",
      "metadata": {
        "id": "555bInxbHf4d"
      },
      "source": [
        "train,labels0 = zip(*train_set)\n",
        "test,testlabels0 = zip(*test_set)"
      ],
      "execution_count": 29,
      "outputs": []
    },
    {
      "cell_type": "code",
      "metadata": {
        "id": "BP8erbwIH3WP"
      },
      "source": [
        "labels1 = to_categorical(labels0)\n",
        "label = np.array(labels1) "
      ],
      "execution_count": 30,
      "outputs": []
    },
    {
      "cell_type": "code",
      "metadata": {
        "id": "fG1FZRLxISwy"
      },
      "source": [
        "train = np.array(train)\n",
        "test = np.array(test)"
      ],
      "execution_count": 31,
      "outputs": []
    },
    {
      "cell_type": "code",
      "metadata": {
        "id": "9au8PFSOSwRA"
      },
      "source": [
        "trainx,testx,trainy,testy=train_test_split(train,label,test_size=0.2,random_state=44)"
      ],
      "execution_count": 32,
      "outputs": []
    },
    {
      "cell_type": "code",
      "metadata": {
        "id": "oyLglpFWpgkl"
      },
      "source": [
        "datagen = ImageDataGenerator(horizontal_flip=True,vertical_flip=True,rotation_range=20,zoom_range=0.2,width_shift_range=0.2,height_shift_range=0.2,shear_range=0.1,fill_mode=\"nearest\")"
      ],
      "execution_count": 33,
      "outputs": []
    },
    {
      "cell_type": "code",
      "metadata": {
        "id": "ww6yd3ZYpvd1"
      },
      "source": [
        "pretrained_model = tf.keras.applications.Xception(input_shape=(192,192,3),include_top=False,weights='imagenet',pooling='avg')\n",
        "#pretrained_model.trainable = False"
      ],
      "execution_count": 34,
      "outputs": []
    },
    {
      "cell_type": "code",
      "metadata": {
        "id": "bM78oKBf92Tg"
      },
      "source": [
        "#pretrained_model = keras.applications.ResNet101(input_shape=(40,40,3),include_top=False,weights='imagenet',pooling=\"avg\")\n",
        "#pretrained_model.trainable = False"
      ],
      "execution_count": null,
      "outputs": []
    },
    {
      "cell_type": "code",
      "metadata": {
        "id": "FhhYp6QTr-aM"
      },
      "source": [
        "\n",
        "inputs = pretrained_model.input\n",
        "x = keras.layers.Dense(512, activation='relu')(pretrained_model.output)\n",
        "x = keras.layers.Dropout(0.3)(x)\n",
        "x = keras.layers.Dense(256,activation='relu')(x)\n",
        "x = keras.layers.Dropout(0.3)(x)\n",
        "outputs = tf.keras.layers.Dense(107, activation='softmax')(x)\n",
        "model = tf.keras.Model(inputs=inputs, outputs=outputs)\n"
      ],
      "execution_count": 35,
      "outputs": []
    },
    {
      "cell_type": "code",
      "metadata": {
        "id": "j_Igjglc0YQ5",
        "colab": {
          "base_uri": "https://localhost:8080/",
          "height": 146
        },
        "outputId": "9d46d3e6-6ad1-4fc6-cec8-21121aef60b0"
      },
      "source": [
        "#CUSTOM MODEL 1\n",
        "'''\n",
        "model = keras.Sequential([\n",
        "    tf.keras.layers.Conv2D(64, (3,3), activation='relu',padding = 'Same', input_shape=(40, 40, 3)),\n",
        "    tf.keras.layers.MaxPooling2D(2, 2),\n",
        "    tf.keras.layers.Dropout(0.25),\n",
        "    #tf.keras.layers.Conv2D(128, (3,3), activation='relu',padding = 'Same'),\n",
        "    #tf.keras.layers.MaxPooling2D(2,2),\n",
        "    #tf.keras.layers.Dropout(0.25),\n",
        "    #tf.keras.layers.Conv2D(128, (3,3), activation='relu',padding = 'Same'),\n",
        "    #tf.keras.layers.MaxPooling2D(2,2),\n",
        "    #tf.keras.layers.Dropout(0.25),\n",
        "    tf.keras.layers.Conv2D(128, (3,3), activation='relu',padding = 'Same'),\n",
        "    tf.keras.layers.MaxPooling2D(2,2),\n",
        "    tf.keras.layers.Dropout(0.25),\n",
        "    tf.keras.layers.Conv2D(256, (3,3), activation='relu',padding = 'Same'),\n",
        "    tf.keras.layers.MaxPooling2D(2,2),\n",
        "    tf.keras.layers.Dropout(0.25),\n",
        "    tf.keras.layers.Flatten(),\n",
        "    tf.keras.layers.Dense(1024, activation='relu'),\n",
        "    tf.keras.layers.Dropout(0.5),\n",
        "    tf.keras.layers.Dense(107, activation='softmax')\n",
        "])\n",
        "'''"
      ],
      "execution_count": null,
      "outputs": [
        {
          "output_type": "execute_result",
          "data": {
            "application/vnd.google.colaboratory.intrinsic+json": {
              "type": "string"
            },
            "text/plain": [
              "\"\\nmodel = keras.Sequential([\\n    tf.keras.layers.Conv2D(64, (3,3), activation='relu',padding = 'Same', input_shape=(40, 40, 3)),\\n    tf.keras.layers.MaxPooling2D(2, 2),\\n    tf.keras.layers.Dropout(0.25),\\n    #tf.keras.layers.Conv2D(128, (3,3), activation='relu',padding = 'Same'),\\n    #tf.keras.layers.MaxPooling2D(2,2),\\n    #tf.keras.layers.Dropout(0.25),\\n    #tf.keras.layers.Conv2D(128, (3,3), activation='relu',padding = 'Same'),\\n    #tf.keras.layers.MaxPooling2D(2,2),\\n    #tf.keras.layers.Dropout(0.25),\\n    tf.keras.layers.Conv2D(128, (3,3), activation='relu',padding = 'Same'),\\n    tf.keras.layers.MaxPooling2D(2,2),\\n    tf.keras.layers.Dropout(0.25),\\n    tf.keras.layers.Conv2D(256, (3,3), activation='relu',padding = 'Same'),\\n    tf.keras.layers.MaxPooling2D(2,2),\\n    tf.keras.layers.Dropout(0.25),\\n    tf.keras.layers.Flatten(),\\n    tf.keras.layers.Dense(1024, activation='relu'),\\n    tf.keras.layers.Dropout(0.5),\\n    tf.keras.layers.Dense(107, activation='softmax')\\n])\\n\""
            ]
          },
          "metadata": {
            "tags": []
          },
          "execution_count": 18
        }
      ]
    },
    {
      "cell_type": "code",
      "metadata": {
        "id": "Y6BLmxGmrxkO"
      },
      "source": [
        "'''\n",
        "#CUSTOM MODEL 2\n",
        "def build_model():\n",
        "  model = keras.Sequential([\n",
        "      tf.keras.layers.Conv2D(16, (3,3), activation='relu',padding = 'Same', input_shape=(128, 128, 3)),\n",
        "      tf.keras.layers.MaxPooling2D(2, 2),\n",
        "      tf.keras.layers.Dropout(0.25),\n",
        "      tf.keras.layers.Conv2D(32, (3,3), activation='relu',padding = 'Same'),\n",
        "      tf.keras.layers.MaxPooling2D(2,2),\n",
        "      tf.keras.layers.Dropout(0.25),\n",
        "      tf.keras.layers.Conv2D(64, (3,3), activation='relu',padding = 'Same'),\n",
        "      tf.keras.layers.MaxPooling2D(2,2),\n",
        "      tf.keras.layers.Dropout(0.25),\n",
        "      tf.keras.layers.Conv2D(128, (3,3), activation='relu',padding = 'Same'),\n",
        "      tf.keras.layers.MaxPooling2D(2,2),\n",
        "      tf.keras.layers.Dropout(0.25),\n",
        "      tf.keras.layers.Conv2D(256, (3,3), activation='relu',padding = 'Same'),\n",
        "      tf.keras.layers.MaxPooling2D(2,2),\n",
        "      tf.keras.layers.Dropout(0.25),\n",
        "      tf.keras.layers.Flatten(),\n",
        "      tf.keras.layers.Dense(1024, activation='relu'),\n",
        "      tf.keras.layers.Dropout(0.5),\n",
        "      tf.keras.layers.Dense(107, activation='softmax')\n",
        "  ])\n",
        "  return model\n",
        "\n",
        "#with tpu_strategy.scope():\n",
        "model = build_model()\n",
        "model.summary()\n",
        "'''"
      ],
      "execution_count": null,
      "outputs": []
    },
    {
      "cell_type": "code",
      "metadata": {
        "id": "uHoVvZKCst_A"
      },
      "source": [
        "optimiser = keras.optimizers.Adam(learning_rate=0.0001)\n",
        "model.compile(optimizer=optimiser,loss='categorical_crossentropy',metrics=['accuracy'])"
      ],
      "execution_count": 36,
      "outputs": []
    },
    {
      "cell_type": "code",
      "metadata": {
        "id": "fT944ryWhbQf"
      },
      "source": [
        "class MyThresholdCallback(tf.keras.callbacks.Callback):\n",
        "    def __init__(self, threshold):\n",
        "        super(MyThresholdCallback, self).__init__()\n",
        "        self.threshold = threshold\n",
        "\n",
        "    def on_epoch_end(self, epoch, logs=None): \n",
        "        accuracy = logs[\"val_accuracy\"]\n",
        "        if accuracy >= self.threshold:\n",
        "            self.model.stop_training = True\n"
      ],
      "execution_count": 37,
      "outputs": []
    },
    {
      "cell_type": "code",
      "metadata": {
        "id": "0AWSadIFhoKc"
      },
      "source": [
        "callback = MyThresholdCallback(0.70)"
      ],
      "execution_count": 38,
      "outputs": []
    },
    {
      "cell_type": "code",
      "metadata": {
        "colab": {
          "base_uri": "https://localhost:8080/"
        },
        "id": "9zQYN3Q-wkgd",
        "outputId": "8a94f659-49ca-4780-b6ec-628091df2f6e"
      },
      "source": [
        "model_history = model.fit(datagen.flow(trainx,trainy,batch_size=32),validation_data=(testx,testy), callbacks=[callback], epochs = 1000)"
      ],
      "execution_count": 39,
      "outputs": [
        {
          "output_type": "stream",
          "text": [
            "Epoch 1/1000\n",
            "  6/134 [>.............................] - ETA: 55s - loss: 4.6851 - accuracy: 0.0052WARNING:tensorflow:Callback method `on_train_batch_end` is slow compared to the batch time (batch time: 0.1505s vs `on_train_batch_end` time: 0.2973s). Check your callbacks.\n",
            "134/134 [==============================] - 74s 513ms/step - loss: 4.6720 - accuracy: 0.0107 - val_loss: 4.6558 - val_accuracy: 0.0280\n",
            "Epoch 2/1000\n",
            "134/134 [==============================] - 65s 481ms/step - loss: 4.5102 - accuracy: 0.0329 - val_loss: 4.2514 - val_accuracy: 0.0868\n",
            "Epoch 3/1000\n",
            "134/134 [==============================] - 65s 481ms/step - loss: 3.7922 - accuracy: 0.1479 - val_loss: 2.9995 - val_accuracy: 0.2558\n",
            "Epoch 4/1000\n",
            "134/134 [==============================] - 64s 478ms/step - loss: 2.9841 - accuracy: 0.2677 - val_loss: 2.3161 - val_accuracy: 0.3782\n",
            "Epoch 5/1000\n",
            "134/134 [==============================] - 64s 479ms/step - loss: 2.4619 - accuracy: 0.3642 - val_loss: 1.8622 - val_accuracy: 0.4911\n",
            "Epoch 6/1000\n",
            "134/134 [==============================] - 64s 478ms/step - loss: 2.0488 - accuracy: 0.4553 - val_loss: 1.6524 - val_accuracy: 0.5444\n",
            "Epoch 7/1000\n",
            "134/134 [==============================] - 64s 480ms/step - loss: 1.7817 - accuracy: 0.5104 - val_loss: 1.5309 - val_accuracy: 0.5509\n",
            "Epoch 8/1000\n",
            "134/134 [==============================] - 64s 480ms/step - loss: 1.5673 - accuracy: 0.5630 - val_loss: 1.4250 - val_accuracy: 0.6340\n",
            "Epoch 9/1000\n",
            "134/134 [==============================] - 64s 479ms/step - loss: 1.3769 - accuracy: 0.6099 - val_loss: 1.3300 - val_accuracy: 0.6349\n",
            "Epoch 10/1000\n",
            "134/134 [==============================] - 64s 479ms/step - loss: 1.2161 - accuracy: 0.6489 - val_loss: 1.2636 - val_accuracy: 0.6508\n",
            "Epoch 11/1000\n",
            "134/134 [==============================] - 64s 478ms/step - loss: 1.1033 - accuracy: 0.6769 - val_loss: 1.2704 - val_accuracy: 0.6555\n",
            "Epoch 12/1000\n",
            "134/134 [==============================] - 64s 478ms/step - loss: 0.9789 - accuracy: 0.7085 - val_loss: 1.2124 - val_accuracy: 0.6713\n",
            "Epoch 13/1000\n",
            "134/134 [==============================] - 64s 478ms/step - loss: 0.8718 - accuracy: 0.7388 - val_loss: 1.2809 - val_accuracy: 0.6433\n",
            "Epoch 14/1000\n",
            "134/134 [==============================] - 65s 482ms/step - loss: 0.7807 - accuracy: 0.7669 - val_loss: 1.2289 - val_accuracy: 0.6667\n",
            "Epoch 15/1000\n",
            "134/134 [==============================] - 66s 493ms/step - loss: 0.7149 - accuracy: 0.7879 - val_loss: 1.2237 - val_accuracy: 0.6629\n",
            "Epoch 16/1000\n",
            "134/134 [==============================] - 64s 478ms/step - loss: 0.6436 - accuracy: 0.8057 - val_loss: 1.2554 - val_accuracy: 0.6807\n",
            "Epoch 17/1000\n",
            "134/134 [==============================] - 64s 478ms/step - loss: 0.5952 - accuracy: 0.8162 - val_loss: 1.2821 - val_accuracy: 0.6816\n",
            "Epoch 18/1000\n",
            "134/134 [==============================] - 64s 478ms/step - loss: 0.5651 - accuracy: 0.8220 - val_loss: 1.2370 - val_accuracy: 0.6807\n",
            "Epoch 19/1000\n",
            "134/134 [==============================] - 64s 477ms/step - loss: 0.5156 - accuracy: 0.8463 - val_loss: 1.2461 - val_accuracy: 0.6956\n",
            "Epoch 20/1000\n",
            "134/134 [==============================] - 64s 478ms/step - loss: 0.4605 - accuracy: 0.8610 - val_loss: 1.2421 - val_accuracy: 0.6900\n",
            "Epoch 21/1000\n",
            "134/134 [==============================] - 64s 478ms/step - loss: 0.3995 - accuracy: 0.8755 - val_loss: 1.2618 - val_accuracy: 0.7003\n"
          ],
          "name": "stdout"
        }
      ]
    },
    {
      "cell_type": "code",
      "metadata": {
        "id": "FNOXVsOGystf",
        "colab": {
          "base_uri": "https://localhost:8080/"
        },
        "outputId": "dc4fedad-5592-475b-8938-bcec61f4510f"
      },
      "source": [
        "model.evaluate(testx,testy)"
      ],
      "execution_count": 40,
      "outputs": [
        {
          "output_type": "stream",
          "text": [
            "34/34 [==============================] - 3s 99ms/step - loss: 1.2618 - accuracy: 0.7003\n"
          ],
          "name": "stdout"
        },
        {
          "output_type": "execute_result",
          "data": {
            "text/plain": [
              "[1.2618273496627808, 0.7002801299095154]"
            ]
          },
          "metadata": {
            "tags": []
          },
          "execution_count": 40
        }
      ]
    },
    {
      "cell_type": "code",
      "metadata": {
        "id": "LulUWkmS3BCg"
      },
      "source": [
        "#PREDICTION"
      ],
      "execution_count": null,
      "outputs": []
    },
    {
      "cell_type": "code",
      "metadata": {
        "id": "Dre5yuFu3NHR"
      },
      "source": [
        "Val = []\n",
        "for i in range(len(labels)):\n",
        "  Val.append(i)\n",
        "\n",
        "reverse_mapping=dict(zip(Val,labels)) "
      ],
      "execution_count": 41,
      "outputs": []
    },
    {
      "cell_type": "code",
      "metadata": {
        "id": "K6qbmTRk2P72"
      },
      "source": [
        "image=load_img(\"/content/drive/MyDrive/DATASETS/YogaDataset/poseDataset/agnistambhasana/61-0.png\",target_size=(192,192))\n",
        "\n",
        "image=img_to_array(image) \n",
        "image=image/255.0\n",
        "prediction_image=np.array(image)\n",
        "prediction_image= np.expand_dims(image, axis=0)"
      ],
      "execution_count": 44,
      "outputs": []
    },
    {
      "cell_type": "code",
      "metadata": {
        "id": "LETBq0BI2fuG",
        "colab": {
          "base_uri": "https://localhost:8080/"
        },
        "outputId": "da3e6200-6188-45ae-bc12-4bcfbf95383e"
      },
      "source": [
        "prediction=model.predict(prediction_image)\n",
        "value=np.argmax(prediction)\n",
        "move_name = reverse_mapping[value]\n",
        "print(\"Prediction is {}.\".format(move_name))"
      ],
      "execution_count": 45,
      "outputs": [
        {
          "output_type": "stream",
          "text": [
            "Prediction is agnistambhasana.\n"
          ],
          "name": "stdout"
        }
      ]
    },
    {
      "cell_type": "code",
      "metadata": {
        "id": "rU_LwB0R6Wyo"
      },
      "source": [
        "model.save('/content/drive/MyDrive/model/try.h5')"
      ],
      "execution_count": null,
      "outputs": []
    }
  ]
}